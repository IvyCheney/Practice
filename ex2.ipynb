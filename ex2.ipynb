{
 "cells": [
  {
   "cell_type": "code",
   "execution_count": 2,
   "metadata": {
    "tags": []
   },
   "outputs": [
    {
     "output_type": "stream",
     "name": "stdout",
     "text": "[99, 95, 93, 89, 87, 85, 84, 80, 77, 77, 73, 71, 71, 70, 67, 64, 60, 59, 54, 54, 53, 51, 48, 37, 35, 35, 33, 30, 28, 23, 23, 22, 21, 18, 17, 17, 4, 4, 0, 0]\n"
    }
   ],
   "source": [
    "#!/usr/bin/env Python\n",
    "# coding=utf-8\n",
    "\n",
    "from __future__ import division\n",
    "import random\n",
    "\n",
    "Total_number = 40\n",
    "def create_scores(Total_number,max_score=100):\n",
    "    return[random.randint(0,max_score) for i in range(Total_number) ]#0 到 100 之间，随机得到 40 个整数，组成列表\n",
    "\n",
    "def filter_under_average(input_list):\n",
    "    num=len(input_list)\n",
    "    sum_up=sum(input_list)*1.0#对列表中的整数求和\n",
    "    average=sum_up/num   #计算平均数\n",
    "    return[x for x in input_list if x<average] #将小于平均数的找出来，组成新的列表\n",
    "\n",
    "score=create_scores(Total_number)\n",
    "temp=filter_under_average(score)\n",
    "ascending=True\n",
    "sorted_score = sorted(score, reverse=ascending)    #对原列表排序\n",
    "print (sorted_score)"
   ]
  }
 ],
 "metadata": {
  "language_info": {
   "codemirror_mode": {
    "name": "ipython",
    "version": 3
   },
   "file_extension": ".py",
   "mimetype": "text/x-python",
   "name": "python",
   "nbconvert_exporter": "python",
   "pygments_lexer": "ipython3",
   "version": "3.7.6-final"
  },
  "orig_nbformat": 2,
  "kernelspec": {
   "name": "python3",
   "display_name": "Python 3"
  }
 },
 "nbformat": 4,
 "nbformat_minor": 2
}