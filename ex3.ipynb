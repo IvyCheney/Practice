{
 "cells": [
  {
   "cell_type": "code",
   "execution_count": null,
   "metadata": {},
   "outputs": [],
   "source": [
    "#!/usr/bin/env Python\n",
    "# coding=utf-8\n",
    "\n",
    "string = \"I love  code.\"    #在 code 前面有两个空格，应该删除一个\n",
    "print(string) #为了能够清楚看到每步的结果，把过程中的量打印出来\n",
    "\n",
    "str_lst = string.split(\" \")    #以空格为分割，得到词汇的列表\n",
    "print(str_lst)\n",
    "\n",
    "words = [s for s in str_lst if s!=\"\"]     #利用列表解析，将空格检出\n",
    "print(words)\n",
    "\n",
    "new_string = \" \".join(words)    #以空格为连接符，将单词链接起来\n",
    "print(new_string)"
   ]
  }
 ],
 "metadata": {
  "language_info": {
   "codemirror_mode": {
    "name": "ipython",
    "version": 3
   },
   "file_extension": ".py",
   "mimetype": "text/x-python",
   "name": "python",
   "nbconvert_exporter": "python",
   "pygments_lexer": "ipython3",
   "version": 3
  },
  "orig_nbformat": 2
 },
 "nbformat": 4,
 "nbformat_minor": 2
}