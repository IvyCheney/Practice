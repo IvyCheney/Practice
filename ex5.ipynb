{
 "cells": [
  {
   "cell_type": "code",
   "execution_count": null,
   "metadata": {},
   "outputs": [],
   "source": [
    "#!/usr/bin/env Python\n",
    "# coding=utf-8\n",
    "\n",
    "from math import sqrt\n",
    "\n",
    "a=input(\"enter a: \")\n",
    "b=input(\"enter b: \")\n",
    "c=input(\"enter c: \")\n",
    "a=int(a)\n",
    "b=int(b)\n",
    "c=int(c)\n",
    "\n",
    "delta = b*b-4*a*c\n",
    "\n",
    "def quadratic_equation(a,b,c):\n",
    "    if delta<0:\n",
    "        return ValueError(\"get delta under zero,\")\n",
    "    if delta==0:\n",
    "        x=-(b/(2*a))\n",
    "        print(x)\n",
    "        return x\n",
    "    else:\n",
    "        sqrt_delta = math.sqrt(delta)\n",
    "        x1 = (-b + sqrt_delta)/(2*a)\n",
    "        x2 = (-b - sqrt_delta)/(2*a)\n",
    "        print (x1,x2)\n",
    "        return x1, x2\n",
    "\n",
    "try:\n",
    "    quadratic_equation(a,b,c)\n",
    "except ValueError as ex:\n",
    "\tprint(ex)"
   ]
  }
 ],
 "metadata": {
  "language_info": {
   "codemirror_mode": {
    "name": "ipython",
    "version": 3
   },
   "file_extension": ".py",
   "mimetype": "text/x-python",
   "name": "python",
   "nbconvert_exporter": "python",
   "pygments_lexer": "ipython3",
   "version": 3
  },
  "orig_nbformat": 2
 },
 "nbformat": 4,
 "nbformat_minor": 2
}