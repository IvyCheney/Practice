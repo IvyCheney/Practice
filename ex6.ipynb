{
 "cells": [
  {
   "cell_type": "code",
   "execution_count": null,
   "metadata": {},
   "outputs": [],
   "source": [
    "#!/usr/bin/env Python\n",
    "# coding=utf-8\n",
    "\n",
    "#统计考试成绩#\n",
    "from __future__ import division\n",
    "\n",
    "def average_score(scores):\n",
    "    score_values = scores.values()\n",
    "    sum_scores = sum(score_values)\n",
    "    average = sum_scores/len(score_values)\n",
    "    return average\n",
    "\n",
    "def sorted_score(scores):\n",
    "    score_lst = [(scores[k],k) for k in scores]\n",
    "    sort_lst = sorted(score_lst, reverse=True)\n",
    "    return [(i[1], i[0]) for i in sort_lst]\n",
    "\n",
    "def max_score(scores):\n",
    "    lst = sorted_score(scores)    #引用分数排序的函数 sorted_score\n",
    "    max_score = lst[0][1]\n",
    "    return [(i[0],i[1]) for i in lst if i[1]==max_score]\n",
    "\n",
    "def min_score(scores):\n",
    "    lst = sorted_score(scores)\n",
    "    min_score = lst[len(lst)-1][1]\n",
    "    return [(i[0],i[1]) for i in lst if i[1]==min_score]\n",
    "\n",
    "if __name__ == \"__main__\":\n",
    "    examine_scores = {\"google\":98, \"facebook\":99, \"baidu\":52, \"alibaba\":80, \"yahoo\":49, \"IBM\":70, \"android\":76, \"apple\":99, \"amazon\":99}\n",
    "\n",
    "    ave = average_score(examine_scores)\n",
    "    print (\"the average score is: \",ave)    #平均分\n",
    "\n",
    "    sor = sorted_score(examine_scores)\n",
    "    print (\"list of the scores: \",sor)      #成绩表\n",
    "\n",
    "    xueba = max_score(examine_scores)\n",
    "    print (\"Xueba is: \",xueba)              #学霸们\n",
    "\n",
    "    xuezha = min_score(examine_scores)\n",
    "    print (\"Xuzha is: \",xuezha)             #学渣们"
   ]
  }
 ],
 "metadata": {
  "language_info": {
   "codemirror_mode": {
    "name": "ipython",
    "version": 3
   },
   "file_extension": ".py",
   "mimetype": "text/x-python",
   "name": "python",
   "nbconvert_exporter": "python",
   "pygments_lexer": "ipython3",
   "version": 3
  },
  "orig_nbformat": 2
 },
 "nbformat": 4,
 "nbformat_minor": 2
}