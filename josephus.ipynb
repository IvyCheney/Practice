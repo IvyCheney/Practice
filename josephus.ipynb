{
 "cells": [
  {
   "cell_type": "code",
   "execution_count": null,
   "metadata": {},
   "outputs": [],
   "source": [
    "#!/usr/bin/env Python\n",
    "# coding=utf-8\n",
    "def josephus(n, m):\n",
    "    if type(n) != type(1) or n <= 0:\n",
    "        raise Exception('n must be an integer(n > 0)')\n",
    "    if n == 1:\n",
    "        return 0\n",
    "    else:\n",
    "        return (josephus(n - 1, m) + m) % n\n",
    "\n",
    "if __name__ == '__main__':\n",
    "    print (josephus(5, 3))"
   ]
  }
 ],
 "metadata": {
  "language_info": {
   "codemirror_mode": {
    "name": "ipython",
    "version": 3
   },
   "file_extension": ".py",
   "mimetype": "text/x-python",
   "name": "python",
   "nbconvert_exporter": "python",
   "pygments_lexer": "ipython3",
   "version": 3
  },
  "orig_nbformat": 2
 },
 "nbformat": 4,
 "nbformat_minor": 2
}